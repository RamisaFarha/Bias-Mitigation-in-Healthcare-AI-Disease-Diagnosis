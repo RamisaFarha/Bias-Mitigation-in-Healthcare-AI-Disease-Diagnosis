{
  "nbformat": 4,
  "nbformat_minor": 0,
  "metadata": {
    "colab": {
      "provenance": [],
      "gpuType": "T4"
    },
    "kernelspec": {
      "name": "python3",
      "display_name": "Python 3"
    },
    "language_info": {
      "name": "python"
    },
    "accelerator": "GPU"
  },
  "cells": [
    {
      "cell_type": "code",
      "execution_count": 7,
      "metadata": {
        "colab": {
          "base_uri": "https://localhost:8080/",
          "height": 242
        },
        "id": "K_7WqGnQG0Qm",
        "outputId": "15667a1c-05e2-4358-a5be-63067fbaf0bc"
      },
      "outputs": [
        {
          "output_type": "stream",
          "name": "stdout",
          "text": [
            "Downloading dataset...\n",
            "Download completed!\n"
          ]
        },
        {
          "output_type": "execute_result",
          "data": {
            "text/plain": [
              "   Pregnancies  Glucose  BloodPressure  SkinThickness  Insulin   BMI  \\\n",
              "0            6      148             72             35        0  33.6   \n",
              "1            1       85             66             29        0  26.6   \n",
              "2            8      183             64              0        0  23.3   \n",
              "3            1       89             66             23       94  28.1   \n",
              "4            0      137             40             35      168  43.1   \n",
              "\n",
              "   DiabetesPedigreeFunction  Age  Outcome  \n",
              "0                     0.627   50        1  \n",
              "1                     0.351   31        0  \n",
              "2                     0.672   32        1  \n",
              "3                     0.167   21        0  \n",
              "4                     2.288   33        1  "
            ],
            "text/html": [
              "\n",
              "  <div id=\"df-d2b3f8a2-5b42-48ad-8fe8-062f7ad66e48\" class=\"colab-df-container\">\n",
              "    <div>\n",
              "<style scoped>\n",
              "    .dataframe tbody tr th:only-of-type {\n",
              "        vertical-align: middle;\n",
              "    }\n",
              "\n",
              "    .dataframe tbody tr th {\n",
              "        vertical-align: top;\n",
              "    }\n",
              "\n",
              "    .dataframe thead th {\n",
              "        text-align: right;\n",
              "    }\n",
              "</style>\n",
              "<table border=\"1\" class=\"dataframe\">\n",
              "  <thead>\n",
              "    <tr style=\"text-align: right;\">\n",
              "      <th></th>\n",
              "      <th>Pregnancies</th>\n",
              "      <th>Glucose</th>\n",
              "      <th>BloodPressure</th>\n",
              "      <th>SkinThickness</th>\n",
              "      <th>Insulin</th>\n",
              "      <th>BMI</th>\n",
              "      <th>DiabetesPedigreeFunction</th>\n",
              "      <th>Age</th>\n",
              "      <th>Outcome</th>\n",
              "    </tr>\n",
              "  </thead>\n",
              "  <tbody>\n",
              "    <tr>\n",
              "      <th>0</th>\n",
              "      <td>6</td>\n",
              "      <td>148</td>\n",
              "      <td>72</td>\n",
              "      <td>35</td>\n",
              "      <td>0</td>\n",
              "      <td>33.6</td>\n",
              "      <td>0.627</td>\n",
              "      <td>50</td>\n",
              "      <td>1</td>\n",
              "    </tr>\n",
              "    <tr>\n",
              "      <th>1</th>\n",
              "      <td>1</td>\n",
              "      <td>85</td>\n",
              "      <td>66</td>\n",
              "      <td>29</td>\n",
              "      <td>0</td>\n",
              "      <td>26.6</td>\n",
              "      <td>0.351</td>\n",
              "      <td>31</td>\n",
              "      <td>0</td>\n",
              "    </tr>\n",
              "    <tr>\n",
              "      <th>2</th>\n",
              "      <td>8</td>\n",
              "      <td>183</td>\n",
              "      <td>64</td>\n",
              "      <td>0</td>\n",
              "      <td>0</td>\n",
              "      <td>23.3</td>\n",
              "      <td>0.672</td>\n",
              "      <td>32</td>\n",
              "      <td>1</td>\n",
              "    </tr>\n",
              "    <tr>\n",
              "      <th>3</th>\n",
              "      <td>1</td>\n",
              "      <td>89</td>\n",
              "      <td>66</td>\n",
              "      <td>23</td>\n",
              "      <td>94</td>\n",
              "      <td>28.1</td>\n",
              "      <td>0.167</td>\n",
              "      <td>21</td>\n",
              "      <td>0</td>\n",
              "    </tr>\n",
              "    <tr>\n",
              "      <th>4</th>\n",
              "      <td>0</td>\n",
              "      <td>137</td>\n",
              "      <td>40</td>\n",
              "      <td>35</td>\n",
              "      <td>168</td>\n",
              "      <td>43.1</td>\n",
              "      <td>2.288</td>\n",
              "      <td>33</td>\n",
              "      <td>1</td>\n",
              "    </tr>\n",
              "  </tbody>\n",
              "</table>\n",
              "</div>\n",
              "    <div class=\"colab-df-buttons\">\n",
              "\n",
              "  <div class=\"colab-df-container\">\n",
              "    <button class=\"colab-df-convert\" onclick=\"convertToInteractive('df-d2b3f8a2-5b42-48ad-8fe8-062f7ad66e48')\"\n",
              "            title=\"Convert this dataframe to an interactive table.\"\n",
              "            style=\"display:none;\">\n",
              "\n",
              "  <svg xmlns=\"http://www.w3.org/2000/svg\" height=\"24px\" viewBox=\"0 -960 960 960\">\n",
              "    <path d=\"M120-120v-720h720v720H120Zm60-500h600v-160H180v160Zm220 220h160v-160H400v160Zm0 220h160v-160H400v160ZM180-400h160v-160H180v160Zm440 0h160v-160H620v160ZM180-180h160v-160H180v160Zm440 0h160v-160H620v160Z\"/>\n",
              "  </svg>\n",
              "    </button>\n",
              "\n",
              "  <style>\n",
              "    .colab-df-container {\n",
              "      display:flex;\n",
              "      gap: 12px;\n",
              "    }\n",
              "\n",
              "    .colab-df-convert {\n",
              "      background-color: #E8F0FE;\n",
              "      border: none;\n",
              "      border-radius: 50%;\n",
              "      cursor: pointer;\n",
              "      display: none;\n",
              "      fill: #1967D2;\n",
              "      height: 32px;\n",
              "      padding: 0 0 0 0;\n",
              "      width: 32px;\n",
              "    }\n",
              "\n",
              "    .colab-df-convert:hover {\n",
              "      background-color: #E2EBFA;\n",
              "      box-shadow: 0px 1px 2px rgba(60, 64, 67, 0.3), 0px 1px 3px 1px rgba(60, 64, 67, 0.15);\n",
              "      fill: #174EA6;\n",
              "    }\n",
              "\n",
              "    .colab-df-buttons div {\n",
              "      margin-bottom: 4px;\n",
              "    }\n",
              "\n",
              "    [theme=dark] .colab-df-convert {\n",
              "      background-color: #3B4455;\n",
              "      fill: #D2E3FC;\n",
              "    }\n",
              "\n",
              "    [theme=dark] .colab-df-convert:hover {\n",
              "      background-color: #434B5C;\n",
              "      box-shadow: 0px 1px 3px 1px rgba(0, 0, 0, 0.15);\n",
              "      filter: drop-shadow(0px 1px 2px rgba(0, 0, 0, 0.3));\n",
              "      fill: #FFFFFF;\n",
              "    }\n",
              "  </style>\n",
              "\n",
              "    <script>\n",
              "      const buttonEl =\n",
              "        document.querySelector('#df-d2b3f8a2-5b42-48ad-8fe8-062f7ad66e48 button.colab-df-convert');\n",
              "      buttonEl.style.display =\n",
              "        google.colab.kernel.accessAllowed ? 'block' : 'none';\n",
              "\n",
              "      async function convertToInteractive(key) {\n",
              "        const element = document.querySelector('#df-d2b3f8a2-5b42-48ad-8fe8-062f7ad66e48');\n",
              "        const dataTable =\n",
              "          await google.colab.kernel.invokeFunction('convertToInteractive',\n",
              "                                                    [key], {});\n",
              "        if (!dataTable) return;\n",
              "\n",
              "        const docLinkHtml = 'Like what you see? Visit the ' +\n",
              "          '<a target=\"_blank\" href=https://colab.research.google.com/notebooks/data_table.ipynb>data table notebook</a>'\n",
              "          + ' to learn more about interactive tables.';\n",
              "        element.innerHTML = '';\n",
              "        dataTable['output_type'] = 'display_data';\n",
              "        await google.colab.output.renderOutput(dataTable, element);\n",
              "        const docLink = document.createElement('div');\n",
              "        docLink.innerHTML = docLinkHtml;\n",
              "        element.appendChild(docLink);\n",
              "      }\n",
              "    </script>\n",
              "  </div>\n",
              "\n",
              "\n",
              "<div id=\"df-80aacbcc-5651-4b3d-b121-4abc78fd7d66\">\n",
              "  <button class=\"colab-df-quickchart\" onclick=\"quickchart('df-80aacbcc-5651-4b3d-b121-4abc78fd7d66')\"\n",
              "            title=\"Suggest charts\"\n",
              "            style=\"display:none;\">\n",
              "\n",
              "<svg xmlns=\"http://www.w3.org/2000/svg\" height=\"24px\"viewBox=\"0 0 24 24\"\n",
              "     width=\"24px\">\n",
              "    <g>\n",
              "        <path d=\"M19 3H5c-1.1 0-2 .9-2 2v14c0 1.1.9 2 2 2h14c1.1 0 2-.9 2-2V5c0-1.1-.9-2-2-2zM9 17H7v-7h2v7zm4 0h-2V7h2v10zm4 0h-2v-4h2v4z\"/>\n",
              "    </g>\n",
              "</svg>\n",
              "  </button>\n",
              "\n",
              "<style>\n",
              "  .colab-df-quickchart {\n",
              "      --bg-color: #E8F0FE;\n",
              "      --fill-color: #1967D2;\n",
              "      --hover-bg-color: #E2EBFA;\n",
              "      --hover-fill-color: #174EA6;\n",
              "      --disabled-fill-color: #AAA;\n",
              "      --disabled-bg-color: #DDD;\n",
              "  }\n",
              "\n",
              "  [theme=dark] .colab-df-quickchart {\n",
              "      --bg-color: #3B4455;\n",
              "      --fill-color: #D2E3FC;\n",
              "      --hover-bg-color: #434B5C;\n",
              "      --hover-fill-color: #FFFFFF;\n",
              "      --disabled-bg-color: #3B4455;\n",
              "      --disabled-fill-color: #666;\n",
              "  }\n",
              "\n",
              "  .colab-df-quickchart {\n",
              "    background-color: var(--bg-color);\n",
              "    border: none;\n",
              "    border-radius: 50%;\n",
              "    cursor: pointer;\n",
              "    display: none;\n",
              "    fill: var(--fill-color);\n",
              "    height: 32px;\n",
              "    padding: 0;\n",
              "    width: 32px;\n",
              "  }\n",
              "\n",
              "  .colab-df-quickchart:hover {\n",
              "    background-color: var(--hover-bg-color);\n",
              "    box-shadow: 0 1px 2px rgba(60, 64, 67, 0.3), 0 1px 3px 1px rgba(60, 64, 67, 0.15);\n",
              "    fill: var(--button-hover-fill-color);\n",
              "  }\n",
              "\n",
              "  .colab-df-quickchart-complete:disabled,\n",
              "  .colab-df-quickchart-complete:disabled:hover {\n",
              "    background-color: var(--disabled-bg-color);\n",
              "    fill: var(--disabled-fill-color);\n",
              "    box-shadow: none;\n",
              "  }\n",
              "\n",
              "  .colab-df-spinner {\n",
              "    border: 2px solid var(--fill-color);\n",
              "    border-color: transparent;\n",
              "    border-bottom-color: var(--fill-color);\n",
              "    animation:\n",
              "      spin 1s steps(1) infinite;\n",
              "  }\n",
              "\n",
              "  @keyframes spin {\n",
              "    0% {\n",
              "      border-color: transparent;\n",
              "      border-bottom-color: var(--fill-color);\n",
              "      border-left-color: var(--fill-color);\n",
              "    }\n",
              "    20% {\n",
              "      border-color: transparent;\n",
              "      border-left-color: var(--fill-color);\n",
              "      border-top-color: var(--fill-color);\n",
              "    }\n",
              "    30% {\n",
              "      border-color: transparent;\n",
              "      border-left-color: var(--fill-color);\n",
              "      border-top-color: var(--fill-color);\n",
              "      border-right-color: var(--fill-color);\n",
              "    }\n",
              "    40% {\n",
              "      border-color: transparent;\n",
              "      border-right-color: var(--fill-color);\n",
              "      border-top-color: var(--fill-color);\n",
              "    }\n",
              "    60% {\n",
              "      border-color: transparent;\n",
              "      border-right-color: var(--fill-color);\n",
              "    }\n",
              "    80% {\n",
              "      border-color: transparent;\n",
              "      border-right-color: var(--fill-color);\n",
              "      border-bottom-color: var(--fill-color);\n",
              "    }\n",
              "    90% {\n",
              "      border-color: transparent;\n",
              "      border-bottom-color: var(--fill-color);\n",
              "    }\n",
              "  }\n",
              "</style>\n",
              "\n",
              "  <script>\n",
              "    async function quickchart(key) {\n",
              "      const quickchartButtonEl =\n",
              "        document.querySelector('#' + key + ' button');\n",
              "      quickchartButtonEl.disabled = true;  // To prevent multiple clicks.\n",
              "      quickchartButtonEl.classList.add('colab-df-spinner');\n",
              "      try {\n",
              "        const charts = await google.colab.kernel.invokeFunction(\n",
              "            'suggestCharts', [key], {});\n",
              "      } catch (error) {\n",
              "        console.error('Error during call to suggestCharts:', error);\n",
              "      }\n",
              "      quickchartButtonEl.classList.remove('colab-df-spinner');\n",
              "      quickchartButtonEl.classList.add('colab-df-quickchart-complete');\n",
              "    }\n",
              "    (() => {\n",
              "      let quickchartButtonEl =\n",
              "        document.querySelector('#df-80aacbcc-5651-4b3d-b121-4abc78fd7d66 button');\n",
              "      quickchartButtonEl.style.display =\n",
              "        google.colab.kernel.accessAllowed ? 'block' : 'none';\n",
              "    })();\n",
              "  </script>\n",
              "</div>\n",
              "\n",
              "    </div>\n",
              "  </div>\n"
            ],
            "application/vnd.google.colaboratory.intrinsic+json": {
              "type": "dataframe",
              "variable_name": "data",
              "summary": "{\n  \"name\": \"data\",\n  \"rows\": 768,\n  \"fields\": [\n    {\n      \"column\": \"Pregnancies\",\n      \"properties\": {\n        \"dtype\": \"number\",\n        \"std\": 3,\n        \"min\": 0,\n        \"max\": 17,\n        \"num_unique_values\": 17,\n        \"samples\": [\n          6,\n          1,\n          3\n        ],\n        \"semantic_type\": \"\",\n        \"description\": \"\"\n      }\n    },\n    {\n      \"column\": \"Glucose\",\n      \"properties\": {\n        \"dtype\": \"number\",\n        \"std\": 31,\n        \"min\": 0,\n        \"max\": 199,\n        \"num_unique_values\": 136,\n        \"samples\": [\n          151,\n          101,\n          112\n        ],\n        \"semantic_type\": \"\",\n        \"description\": \"\"\n      }\n    },\n    {\n      \"column\": \"BloodPressure\",\n      \"properties\": {\n        \"dtype\": \"number\",\n        \"std\": 19,\n        \"min\": 0,\n        \"max\": 122,\n        \"num_unique_values\": 47,\n        \"samples\": [\n          86,\n          46,\n          85\n        ],\n        \"semantic_type\": \"\",\n        \"description\": \"\"\n      }\n    },\n    {\n      \"column\": \"SkinThickness\",\n      \"properties\": {\n        \"dtype\": \"number\",\n        \"std\": 15,\n        \"min\": 0,\n        \"max\": 99,\n        \"num_unique_values\": 51,\n        \"samples\": [\n          7,\n          12,\n          48\n        ],\n        \"semantic_type\": \"\",\n        \"description\": \"\"\n      }\n    },\n    {\n      \"column\": \"Insulin\",\n      \"properties\": {\n        \"dtype\": \"number\",\n        \"std\": 115,\n        \"min\": 0,\n        \"max\": 846,\n        \"num_unique_values\": 186,\n        \"samples\": [\n          52,\n          41,\n          183\n        ],\n        \"semantic_type\": \"\",\n        \"description\": \"\"\n      }\n    },\n    {\n      \"column\": \"BMI\",\n      \"properties\": {\n        \"dtype\": \"number\",\n        \"std\": 7.8841603203754405,\n        \"min\": 0.0,\n        \"max\": 67.1,\n        \"num_unique_values\": 248,\n        \"samples\": [\n          19.9,\n          31.0,\n          38.1\n        ],\n        \"semantic_type\": \"\",\n        \"description\": \"\"\n      }\n    },\n    {\n      \"column\": \"DiabetesPedigreeFunction\",\n      \"properties\": {\n        \"dtype\": \"number\",\n        \"std\": 0.33132859501277484,\n        \"min\": 0.078,\n        \"max\": 2.42,\n        \"num_unique_values\": 517,\n        \"samples\": [\n          1.731,\n          0.426,\n          0.138\n        ],\n        \"semantic_type\": \"\",\n        \"description\": \"\"\n      }\n    },\n    {\n      \"column\": \"Age\",\n      \"properties\": {\n        \"dtype\": \"number\",\n        \"std\": 11,\n        \"min\": 21,\n        \"max\": 81,\n        \"num_unique_values\": 52,\n        \"samples\": [\n          60,\n          47,\n          72\n        ],\n        \"semantic_type\": \"\",\n        \"description\": \"\"\n      }\n    },\n    {\n      \"column\": \"Outcome\",\n      \"properties\": {\n        \"dtype\": \"number\",\n        \"std\": 0,\n        \"min\": 0,\n        \"max\": 1,\n        \"num_unique_values\": 2,\n        \"samples\": [\n          0,\n          1\n        ],\n        \"semantic_type\": \"\",\n        \"description\": \"\"\n      }\n    }\n  ]\n}"
            }
          },
          "metadata": {},
          "execution_count": 7
        }
      ],
      "source": [
        "import urllib.request  # Import the necessary module\n",
        "\n",
        "# Correct URL to directly access the Pima Indians Diabetes dataset CSV file\n",
        "url = 'https://raw.githubusercontent.com/jbrownlee/Datasets/master/pima-indians-diabetes.data.csv'\n",
        "csv_path = '/content/pima-indians-diabetes.csv'\n",
        "\n",
        "# Download the dataset\n",
        "print(\"Downloading dataset...\")\n",
        "urllib.request.urlretrieve(url, csv_path)\n",
        "print(\"Download completed!\")\n",
        "\n",
        "# Load the dataset into a pandas DataFrame\n",
        "import pandas as pd\n",
        "\n",
        "# Define column names for the dataset (based on the dataset description)\n",
        "columns = ['Pregnancies', 'Glucose', 'BloodPressure', 'SkinThickness', 'Insulin',\n",
        "           'BMI', 'DiabetesPedigreeFunction', 'Age', 'Outcome']\n",
        "\n",
        "# Load the CSV file into a DataFrame\n",
        "data = pd.read_csv(csv_path, names=columns)\n",
        "\n",
        "# Display the first few rows of the dataset\n",
        "data.head()"
      ]
    },
    {
      "cell_type": "markdown",
      "source": [
        "Data Preprocessing"
      ],
      "metadata": {
        "id": "xiiqjF-qItYa"
      }
    },
    {
      "cell_type": "code",
      "source": [
        "# Step 2: Data Preprocessing\n",
        "\n",
        "# 1. Check for missing values\n",
        "print(\"Checking for missing values...\")\n",
        "missing_values = data.isnull().sum()\n",
        "print(missing_values)\n",
        "\n",
        "# Since there are no missing values in the dataset, we can skip this part. If there were any,\n",
        "# we could either drop rows or fill them with mean/median values.\n",
        "\n",
        "# 2. Normalize/Scale the numerical features\n",
        "from sklearn.preprocessing import StandardScaler\n",
        "\n",
        "# Extract the feature columns and the target (Outcome)\n",
        "X = data.drop(columns=['Outcome'])\n",
        "y = data['Outcome']\n",
        "\n",
        "# Initialize the scaler\n",
        "scaler = StandardScaler()\n",
        "\n",
        "# Normalize the feature data\n",
        "X_scaled = scaler.fit_transform(X)\n",
        "\n",
        "# 3. Split the dataset into training and testing sets (80% train, 20% test)\n",
        "from sklearn.model_selection import train_test_split\n",
        "\n",
        "# Split the data\n",
        "X_train, X_test, y_train, y_test = train_test_split(X_scaled, y, test_size=0.2, random_state=42)\n",
        "\n",
        "# Check the shapes of the training and testing sets\n",
        "print(f\"Training set shape: {X_train.shape}, Testing set shape: {X_test.shape}\")"
      ],
      "metadata": {
        "colab": {
          "base_uri": "https://localhost:8080/"
        },
        "id": "tDbYtLwHIt9p",
        "outputId": "f649248d-1872-4d4a-f737-b1cf150fd408"
      },
      "execution_count": 8,
      "outputs": [
        {
          "output_type": "stream",
          "name": "stdout",
          "text": [
            "Checking for missing values...\n",
            "Pregnancies                 0\n",
            "Glucose                     0\n",
            "BloodPressure               0\n",
            "SkinThickness               0\n",
            "Insulin                     0\n",
            "BMI                         0\n",
            "DiabetesPedigreeFunction    0\n",
            "Age                         0\n",
            "Outcome                     0\n",
            "dtype: int64\n",
            "Training set shape: (614, 8), Testing set shape: (154, 8)\n"
          ]
        }
      ]
    },
    {
      "cell_type": "markdown",
      "source": [
        "Train a Baseline Model"
      ],
      "metadata": {
        "id": "7WpHosNuI3Q0"
      }
    },
    {
      "cell_type": "code",
      "source": [
        "# Step 3: Train a Baseline Model (Logistic Regression)\n",
        "\n",
        "from sklearn.linear_model import LogisticRegression\n",
        "from sklearn.metrics import accuracy_score, confusion_matrix, classification_report\n",
        "\n",
        "# Initialize the Logistic Regression model\n",
        "model = LogisticRegression(random_state=42)\n",
        "\n",
        "# Train the model on the training data\n",
        "model.fit(X_train, y_train)\n",
        "\n",
        "# Make predictions on the test data\n",
        "y_pred = model.predict(X_test)\n",
        "\n",
        "# Evaluate the model performance\n",
        "accuracy = accuracy_score(y_test, y_pred)\n",
        "conf_matrix = confusion_matrix(y_test, y_pred)\n",
        "class_report = classification_report(y_test, y_pred)\n",
        "\n",
        "# Display the evaluation metrics\n",
        "print(f\"Accuracy: {accuracy:.4f}\")\n",
        "print(\"Confusion Matrix:\")\n",
        "print(conf_matrix)\n",
        "print(\"Classification Report:\")\n",
        "print(class_report)"
      ],
      "metadata": {
        "colab": {
          "base_uri": "https://localhost:8080/"
        },
        "id": "5YaGs719I32J",
        "outputId": "cb242a4c-8261-481e-dd3f-afeb18b3d2c1"
      },
      "execution_count": 9,
      "outputs": [
        {
          "output_type": "stream",
          "name": "stdout",
          "text": [
            "Accuracy: 0.7532\n",
            "Confusion Matrix:\n",
            "[[79 20]\n",
            " [18 37]]\n",
            "Classification Report:\n",
            "              precision    recall  f1-score   support\n",
            "\n",
            "           0       0.81      0.80      0.81        99\n",
            "           1       0.65      0.67      0.66        55\n",
            "\n",
            "    accuracy                           0.75       154\n",
            "   macro avg       0.73      0.74      0.73       154\n",
            "weighted avg       0.76      0.75      0.75       154\n",
            "\n"
          ]
        }
      ]
    },
    {
      "cell_type": "code",
      "source": [
        "# Plot the results\n",
        "\n",
        "import matplotlib.pyplot as plt\n",
        "import seaborn as sns\n",
        "from sklearn.metrics import confusion_matrix\n",
        "\n",
        "# 1. Plot Confusion Matrix\n",
        "cm = confusion_matrix(y_test, y_pred)\n",
        "\n",
        "plt.figure(figsize=(6, 5))\n",
        "sns.heatmap(cm, annot=True, fmt='d', cmap='Blues', cbar=False, xticklabels=['No Diabetes', 'Diabetes'], yticklabels=['No Diabetes', 'Diabetes'])\n",
        "plt.title('Confusion Matrix')\n",
        "plt.xlabel('Predicted')\n",
        "plt.ylabel('Actual')\n",
        "plt.show()\n",
        "\n",
        "# 2. Plot Precision, Recall, F1-Score for each class\n",
        "from sklearn.metrics import classification_report\n",
        "\n",
        "# Get the classification report\n",
        "report = classification_report(y_test, y_pred, output_dict=True)\n",
        "\n",
        "# Extract precision, recall, and F1-score for class 0 and class 1\n",
        "precision = [report['0']['precision'], report['1']['precision']]\n",
        "recall = [report['0']['recall'], report['1']['recall']]\n",
        "f1_score = [report['0']['f1-score'], report['1']['f1-score']]\n",
        "\n",
        "# Create a bar plot\n",
        "labels = ['No Diabetes', 'Diabetes']\n",
        "x = range(len(labels))\n",
        "\n",
        "plt.figure(figsize=(8, 5))\n",
        "\n",
        "# Plot Precision, Recall, and F1-Score\n",
        "plt.bar(x, precision, width=0.2, label='Precision', align='center')\n",
        "plt.bar(x, recall, width=0.2, label='Recall', align='edge')\n",
        "plt.bar(x, f1_score, width=0.2, label='F1-Score', align='edge')\n",
        "\n",
        "# Set labels and title\n",
        "plt.xlabel('Classes')\n",
        "plt.ylabel('Scores')\n",
        "plt.title('Precision, Recall, and F1-Score for Each Class')\n",
        "plt.xticks(x, labels)\n",
        "plt.legend()\n",
        "\n",
        "plt.show()"
      ],
      "metadata": {
        "colab": {
          "base_uri": "https://localhost:8080/",
          "height": 957
        },
        "id": "7QnI2zIJJHos",
        "outputId": "f885987b-e2ff-497d-9ade-806a38e7981c"
      },
      "execution_count": 10,
      "outputs": [
        {
          "output_type": "display_data",
          "data": {
            "text/plain": [
              "<Figure size 600x500 with 1 Axes>"
            ],
            "image/png": "[encoded data removed]"
          },
          "metadata": {}
        },
        {
          "output_type": "display_data",
          "data": {
            "text/plain": [
              "<Figure size 800x500 with 1 Axes>"
            ],
            "image/png": "[encoded data removed]"
          },
          "metadata": {}
        }
      ]
    },
    {
      "cell_type": "markdown",
      "source": [
        "valuate Fairness with Respect to Age Group in the Test Set"
      ],
      "metadata": {
        "id": "SA-sGR8uJTrN"
      }
    },
    {
      "cell_type": "code",
      "source": [
        "import numpy as np  # Import numpy module\n",
        "\n",
        "# Define an age threshold for the synthetic demographic group (you can adjust this threshold)\n",
        "age_threshold = 30\n",
        "\n",
        "# Create synthetic demographic group based on Age for the test data\n",
        "age_group_test = np.where(X_test[:, 7] > age_threshold, 1, 0)  # Column 7 corresponds to Age in X_test\n",
        "\n",
        "# Now, evaluate fairness with respect to this synthetic \"AgeGroup\" (only for the test data)\n",
        "# Separate the predictions based on the AgeGroup\n",
        "y_pred_0 = y_pred[age_group_test == 0]  # Age group 0 (Age <= 30)\n",
        "y_pred_1 = y_pred[age_group_test == 1]  # Age group 1 (Age > 30)\n",
        "y_true_0 = y_test.values[age_group_test == 0]\n",
        "y_true_1 = y_test.values[age_group_test == 1]\n",
        "\n",
        "# Compute Demographic Parity: Proportion of positive predictions (1s) in each group\n",
        "dp_0 = np.mean(y_pred_0) if len(y_pred_0) > 0 else 0\n",
        "dp_1 = np.mean(y_pred_1) if len(y_pred_1) > 0 else 0\n",
        "\n",
        "# Compute Equal Opportunity: Proportion of True Positives in each group, handling division by zero\n",
        "tp_0 = np.sum((y_pred_0 == 1) & (y_true_0 == 1)) / np.sum(y_true_0 == 1) if np.sum(y_true_0 == 1) != 0 else 0\n",
        "tp_1 = np.sum((y_pred_1 == 1) & (y_true_1 == 1)) / np.sum(y_true_1 == 1) if np.sum(y_true_1 == 1) != 0 else 0\n",
        "\n",
        "# Display fairness metrics\n",
        "print(f\"Demographic Parity (Age <= 30): {dp_0:.4f}\")\n",
        "print(f\"Demographic Parity (Age > 30): {dp_1:.4f}\")\n",
        "print(f\"Equal Opportunity (Age <= 30): {tp_0:.4f}\")\n",
        "print(f\"Equal Opportunity (Age > 30): {tp_1:.4f}\")"
      ],
      "metadata": {
        "colab": {
          "base_uri": "https://localhost:8080/"
        },
        "id": "aeRREP2BJZT8",
        "outputId": "93ec1d82-f45b-4c18-b352-058379fb8c60"
      },
      "execution_count": 12,
      "outputs": [
        {
          "output_type": "stream",
          "name": "stdout",
          "text": [
            "Demographic Parity (Age <= 30): 0.3701\n",
            "Demographic Parity (Age > 30): 0.0000\n",
            "Equal Opportunity (Age <= 30): 0.6727\n",
            "Equal Opportunity (Age > 30): 0.0000\n"
          ]
        }
      ]
    },
    {
      "cell_type": "markdown",
      "source": [
        "Bias Mitigation"
      ],
      "metadata": {
        "id": "8B8n_7QOKB-D"
      }
    },
    {
      "cell_type": "code",
      "source": [
        "from sklearn.utils.class_weight import compute_sample_weight\n",
        "\n",
        "# Step 5: Reweighting the Training Data\n",
        "\n",
        "# Compute sample weights for the training data based on age group\n",
        "sample_weights = compute_sample_weight(class_weight='balanced', y=y_train)\n",
        "\n",
        "# Now train the model again using these sample weights\n",
        "model_reweighted = LogisticRegression(random_state=42)\n",
        "model_reweighted.fit(X_train, y_train, sample_weight=sample_weights)\n",
        "\n",
        "# Make predictions on the test set\n",
        "y_pred_reweighted = model_reweighted.predict(X_test)\n",
        "\n",
        "# Evaluate the reweighted model's performance\n",
        "accuracy_reweighted = accuracy_score(y_test, y_pred_reweighted)\n",
        "conf_matrix_reweighted = confusion_matrix(y_test, y_pred_reweighted)\n",
        "class_report_reweighted = classification_report(y_test, y_pred_reweighted)\n",
        "\n",
        "# Display the evaluation metrics for the reweighted model\n",
        "print(f\"Accuracy (Reweighted Model): {accuracy_reweighted:.4f}\")\n",
        "print(\"Confusion Matrix (Reweighted):\")\n",
        "print(conf_matrix_reweighted)\n",
        "print(\"Classification Report (Reweighted):\")\n",
        "print(class_report_reweighted)"
      ],
      "metadata": {
        "colab": {
          "base_uri": "https://localhost:8080/"
        },
        "id": "E21vS7MvKCqB",
        "outputId": "f808da2b-ccf8-4531-afb2-caac94f59807"
      },
      "execution_count": 13,
      "outputs": [
        {
          "output_type": "stream",
          "name": "stdout",
          "text": [
            "Accuracy (Reweighted Model): 0.6948\n",
            "Confusion Matrix (Reweighted):\n",
            "[[68 31]\n",
            " [16 39]]\n",
            "Classification Report (Reweighted):\n",
            "              precision    recall  f1-score   support\n",
            "\n",
            "           0       0.81      0.69      0.74        99\n",
            "           1       0.56      0.71      0.62        55\n",
            "\n",
            "    accuracy                           0.69       154\n",
            "   macro avg       0.68      0.70      0.68       154\n",
            "weighted avg       0.72      0.69      0.70       154\n",
            "\n"
          ]
        }
      ]
    },
    {
      "cell_type": "markdown",
      "source": [
        "Fairness Metrics"
      ],
      "metadata": {
        "id": "Gxr56bdPKPck"
      }
    },
    {
      "cell_type": "code",
      "source": [
        "# Step 6: Reevaluate fairness after reweighting\n",
        "y_pred_reweighted_0 = y_pred_reweighted[age_group_test == 0]  # Age group 0 (Age <= 30)\n",
        "y_pred_reweighted_1 = y_pred_reweighted[age_group_test == 1]  # Age group 1 (Age > 30)\n",
        "y_true_reweighted_0 = y_test.values[age_group_test == 0]\n",
        "y_true_reweighted_1 = y_test.values[age_group_test == 1]\n",
        "\n",
        "# Compute Demographic Parity: Proportion of positive predictions (1s) in each group\n",
        "dp_0_reweighted = np.mean(y_pred_reweighted_0) if len(y_pred_reweighted_0) > 0 else 0\n",
        "dp_1_reweighted = np.mean(y_pred_reweighted_1) if len(y_pred_reweighted_1) > 0 else 0\n",
        "\n",
        "# Compute Equal Opportunity: Proportion of True Positives in each group, handling division by zero\n",
        "tp_0_reweighted = np.sum((y_pred_reweighted_0 == 1) & (y_true_reweighted_0 == 1)) / np.sum(y_true_reweighted_0 == 1) if np.sum(y_true_reweighted_0 == 1) != 0 else 0\n",
        "tp_1_reweighted = np.sum((y_pred_reweighted_1 == 1) & (y_true_reweighted_1 == 1)) / np.sum(y_true_reweighted_1 == 1) if np.sum(y_true_reweighted_1 == 1) != 0 else 0\n",
        "\n",
        "# Display fairness metrics for the reweighted model\n",
        "print(f\"Demographic Parity (Age <= 30) after reweighting: {dp_0_reweighted:.4f}\")\n",
        "print(f\"Demographic Parity (Age > 30) after reweighting: {dp_1_reweighted:.4f}\")\n",
        "print(f\"Equal Opportunity (Age <= 30) after reweighting: {tp_0_reweighted:.4f}\")\n",
        "print(f\"Equal Opportunity (Age > 30) after reweighting: {tp_1_reweighted:.4f}\")"
      ],
      "metadata": {
        "colab": {
          "base_uri": "https://localhost:8080/"
        },
        "id": "S1XkbwaLKCyv",
        "outputId": "c3197b72-2264-4d5e-82d3-32cee779bd55"
      },
      "execution_count": 14,
      "outputs": [
        {
          "output_type": "stream",
          "name": "stdout",
          "text": [
            "Demographic Parity (Age <= 30) after reweighting: 0.4545\n",
            "Demographic Parity (Age > 30) after reweighting: 0.0000\n",
            "Equal Opportunity (Age <= 30) after reweighting: 0.7091\n",
            "Equal Opportunity (Age > 30) after reweighting: 0.0000\n"
          ]
        }
      ]
    },
    {
      "cell_type": "code",
      "source": [
        "# Step 1: Train the model on the original (unbalanced) data\n",
        "from sklearn.linear_model import LogisticRegression\n",
        "\n",
        "model_unbalanced = LogisticRegression(random_state=42)\n",
        "model_unbalanced.fit(X_train, y_train)\n",
        "\n",
        "# Step 2: Make predictions and evaluate the model\n",
        "from sklearn.metrics import accuracy_score, confusion_matrix, classification_report\n",
        "\n",
        "y_pred_unbalanced = model_unbalanced.predict(X_test)\n",
        "\n",
        "# Evaluate the accuracy and other metrics\n",
        "accuracy_unbalanced = accuracy_score(y_test, y_pred_unbalanced)\n",
        "conf_matrix_unbalanced = confusion_matrix(y_test, y_pred_unbalanced)\n",
        "class_report_unbalanced = classification_report(y_test, y_pred_unbalanced)\n",
        "\n",
        "# Print the results\n",
        "print(f\"Accuracy (Unbalanced Model): {accuracy_unbalanced:.4f}\")\n",
        "print(\"Confusion Matrix (Unbalanced):\")\n",
        "print(conf_matrix_unbalanced)\n",
        "print(\"Classification Report (Unbalanced):\")\n",
        "print(class_report_unbalanced)\n",
        "\n",
        "# Step 3: Re-evaluate fairness metrics without resampling\n",
        "y_pred_unbalanced_0 = y_pred_unbalanced[age_group_test == 0]  # Age group 0 (Age <= 30)\n",
        "y_pred_unbalanced_1 = y_pred_unbalanced[age_group_test == 1]  # Age group 1 (Age > 30)\n",
        "y_true_unbalanced_0 = y_test[age_group_test == 0]\n",
        "y_true_unbalanced_1 = y_test[age_group_test == 1]\n",
        "\n",
        "# Compute Demographic Parity\n",
        "dp_0_unbalanced = np.mean(y_pred_unbalanced_0) if len(y_pred_unbalanced_0) > 0 else 0\n",
        "dp_1_unbalanced = np.mean(y_pred_unbalanced_1) if len(y_pred_unbalanced_1) > 0 else 0\n",
        "\n",
        "# Compute Equal Opportunity\n",
        "tp_0_unbalanced = np.sum((y_pred_unbalanced_0 == 1) & (y_true_unbalanced_0 == 1)) / np.sum(y_true_unbalanced_0 == 1) if np.sum(y_true_unbalanced_0 == 1) != 0 else 0\n",
        "tp_1_unbalanced = np.sum((y_pred_unbalanced_1 == 1) & (y_true_unbalanced_1 == 1)) / np.sum(y_true_unbalanced_1 == 1) if np.sum(y_true_unbalanced_1 == 1) != 0 else 0\n",
        "\n",
        "# Display fairness metrics for the unbalanced model\n",
        "print(f\"Demographic Parity (Age <= 30) without resampling: {dp_0_unbalanced:.4f}\")\n",
        "print(f\"Demographic Parity (Age > 30) without resampling: {dp_1_unbalanced:.4f}\")\n",
        "print(f\"Equal Opportunity (Age <= 30) without resampling: {tp_0_unbalanced:.4f}\")\n",
        "print(f\"Equal Opportunity (Age > 30) without resampling: {tp_1_unbalanced:.4f}\")"
      ],
      "metadata": {
        "colab": {
          "base_uri": "https://localhost:8080/"
        },
        "id": "2RuUtWzqKb-N",
        "outputId": "3914aa4e-8207-4375-9a86-a403c99fe512"
      },
      "execution_count": 15,
      "outputs": [
        {
          "output_type": "stream",
          "name": "stdout",
          "text": [
            "Accuracy (Unbalanced Model): 0.7532\n",
            "Confusion Matrix (Unbalanced):\n",
            "[[79 20]\n",
            " [18 37]]\n",
            "Classification Report (Unbalanced):\n",
            "              precision    recall  f1-score   support\n",
            "\n",
            "           0       0.81      0.80      0.81        99\n",
            "           1       0.65      0.67      0.66        55\n",
            "\n",
            "    accuracy                           0.75       154\n",
            "   macro avg       0.73      0.74      0.73       154\n",
            "weighted avg       0.76      0.75      0.75       154\n",
            "\n",
            "Demographic Parity (Age <= 30) without resampling: 0.3701\n",
            "Demographic Parity (Age > 30) without resampling: 0.0000\n",
            "Equal Opportunity (Age <= 30) without resampling: 0.6727\n",
            "Equal Opportunity (Age > 30) without resampling: 0.0000\n"
          ]
        }
      ]
    },
    {
      "cell_type": "markdown",
      "source": [
        "Reweight the Model's Loss Function"
      ],
      "metadata": {
        "id": "XzjvA96uNeA3"
      }
    },
    {
      "cell_type": "code",
      "source": [
        "from sklearn.linear_model import LogisticRegression\n",
        "\n",
        "# Calculate class weights for the unbalanced dataset\n",
        "from sklearn.utils.class_weight import compute_class_weight\n",
        "\n",
        "# Compute the class weights based on the training set\n",
        "class_weights = compute_class_weight(class_weight='balanced', classes=np.unique(y_train), y=y_train)\n",
        "class_weight_dict = dict(zip(np.unique(y_train), class_weights))\n",
        "\n",
        "# Step 1: Train the model with class weights\n",
        "model_weighted = LogisticRegression(random_state=42, class_weight=class_weight_dict)\n",
        "model_weighted.fit(X_train, y_train)\n",
        "\n",
        "# Step 2: Make predictions and evaluate the model\n",
        "y_pred_weighted = model_weighted.predict(X_test)\n",
        "\n",
        "# Evaluate the accuracy and other metrics\n",
        "accuracy_weighted = accuracy_score(y_test, y_pred_weighted)\n",
        "conf_matrix_weighted = confusion_matrix(y_test, y_pred_weighted)\n",
        "class_report_weighted = classification_report(y_test, y_pred_weighted)\n",
        "\n",
        "# Print the results\n",
        "print(f\"Accuracy (Weighted Model): {accuracy_weighted:.4f}\")\n",
        "print(\"Confusion Matrix (Weighted):\")\n",
        "print(conf_matrix_weighted)\n",
        "print(\"Classification Report (Weighted):\")\n",
        "print(class_report_weighted)\n",
        "\n",
        "# Step 3: Re-evaluate fairness metrics for the weighted model\n",
        "y_pred_weighted_0 = y_pred_weighted[age_group_test == 0]  # Age group 0 (Age <= 30)\n",
        "y_pred_weighted_1 = y_pred_weighted[age_group_test == 1]  # Age group 1 (Age > 30)\n",
        "y_true_weighted_0 = y_test[age_group_test == 0]\n",
        "y_true_weighted_1 = y_test[age_group_test == 1]\n",
        "\n",
        "# Compute Demographic Parity for the weighted model\n",
        "dp_0_weighted = np.mean(y_pred_weighted_0) if len(y_pred_weighted_0) > 0 else 0\n",
        "dp_1_weighted = np.mean(y_pred_weighted_1) if len(y_pred_weighted_1) > 0 else 0\n",
        "\n",
        "# Compute Equal Opportunity for the weighted model\n",
        "tp_0_weighted = np.sum((y_pred_weighted_0 == 1) & (y_true_weighted_0 == 1)) / np.sum(y_true_weighted_0 == 1) if np.sum(y_true_weighted_0 == 1) != 0 else 0\n",
        "tp_1_weighted = np.sum((y_pred_weighted_1 == 1) & (y_true_weighted_1 == 1)) / np.sum(y_true_weighted_1 == 1) if np.sum(y_true_weighted_1 == 1) != 0 else 0\n",
        "\n",
        "# Display fairness metrics for the weighted model\n",
        "print(f\"Demographic Parity (Age <= 30) with reweighted model: {dp_0_weighted:.4f}\")\n",
        "print(f\"Demographic Parity (Age > 30) with reweighted model: {dp_1_weighted:.4f}\")\n",
        "print(f\"Equal Opportunity (Age <= 30) with reweighted model: {tp_0_weighted:.4f}\")\n",
        "print(f\"Equal Opportunity (Age > 30) with reweighted model: {tp_1_weighted:.4f}\")"
      ],
      "metadata": {
        "colab": {
          "base_uri": "https://localhost:8080/"
        },
        "id": "vv24gzT3NejB",
        "outputId": "5a8bbd04-6e35-4781-8c55-8d0283a4dc85"
      },
      "execution_count": 16,
      "outputs": [
        {
          "output_type": "stream",
          "name": "stdout",
          "text": [
            "Accuracy (Weighted Model): 0.6948\n",
            "Confusion Matrix (Weighted):\n",
            "[[68 31]\n",
            " [16 39]]\n",
            "Classification Report (Weighted):\n",
            "              precision    recall  f1-score   support\n",
            "\n",
            "           0       0.81      0.69      0.74        99\n",
            "           1       0.56      0.71      0.62        55\n",
            "\n",
            "    accuracy                           0.69       154\n",
            "   macro avg       0.68      0.70      0.68       154\n",
            "weighted avg       0.72      0.69      0.70       154\n",
            "\n",
            "Demographic Parity (Age <= 30) with reweighted model: 0.4545\n",
            "Demographic Parity (Age > 30) with reweighted model: 0.0000\n",
            "Equal Opportunity (Age <= 30) with reweighted model: 0.7091\n",
            "Equal Opportunity (Age > 30) with reweighted model: 0.0000\n"
          ]
        }
      ]
    },
    {
      "cell_type": "code",
      "source": [
        "import numpy as np\n",
        "import pandas as pd\n",
        "from sklearn.linear_model import LogisticRegression\n",
        "from sklearn.metrics import accuracy_score, confusion_matrix, classification_report\n",
        "from sklearn.model_selection import train_test_split\n",
        "\n",
        "# Create a column 'AgeGroup' (0 for Age <= 30, 1 for Age > 30)\n",
        "data['AgeGroup'] = (data['Age'] > 30).astype(int)\n",
        "\n",
        "# Split the data into features (X) and target (y)\n",
        "X = data.drop(columns=['Outcome'])  # Features (AgeGroup will be included for fairness evaluation)\n",
        "y = data['Outcome']  # Target\n",
        "\n",
        "# Split into training and testing sets\n",
        "X_train, X_test, y_train, y_test = train_test_split(X, y, test_size=0.2, random_state=42)\n",
        "\n",
        "# Now let's compute the sample weights based on the age group (we will assign higher weights to underrepresented groups)\n",
        "# Compute weights based on age group and outcome (you can adjust this to reflect the fairness goals)\n",
        "age_weights = X_train['Age'].apply(lambda x: 2 if x > 30 else 1)\n",
        "\n",
        "# You can also factor in the outcome (e.g., giving higher weight to minority classes)\n",
        "# For example, you can reweight based on class imbalance:\n",
        "y_weights = y_train.apply(lambda x: 1 if x == 0 else 2)  # Giving more weight to class 1\n",
        "\n",
        "# Combine both weight sources (adjust this based on your specific fairness goals)\n",
        "sample_weights = age_weights * y_weights\n",
        "\n",
        "# Train the Logistic Regression model with sample weights\n",
        "model = LogisticRegression(solver='liblinear')\n",
        "model.fit(X_train.drop(columns=['AgeGroup']), y_train, sample_weight=sample_weights)  # Drop AgeGroup column for training\n",
        "\n",
        "# Make predictions on the test set\n",
        "y_pred = model.predict(X_test.drop(columns=['AgeGroup']))  # Drop AgeGroup column for predictions\n",
        "\n",
        "# Evaluate accuracy\n",
        "accuracy = accuracy_score(y_test, y_pred)\n",
        "conf_matrix = confusion_matrix(y_test, y_pred)\n",
        "class_report = classification_report(y_test, y_pred)\n",
        "\n",
        "# Fairness evaluation (Demographic Parity and Equal Opportunity based on AgeGroup)\n",
        "# Demographic Parity: Difference in positive rates between groups\n",
        "demographic_parity_0 = np.mean(y_pred[X_test['AgeGroup'] == 0])\n",
        "demographic_parity_1 = np.mean(y_pred[X_test['AgeGroup'] == 1])\n",
        "\n",
        "# Equal Opportunity: Difference in true positive rates between groups\n",
        "true_positive_rate_0 = np.mean((y_pred[X_test['AgeGroup'] == 0] == 1) & (y_test[X_test['AgeGroup'] == 0] == 1))\n",
        "true_positive_rate_1 = np.mean((y_pred[X_test['AgeGroup'] == 1] == 1) & (y_test[X_test['AgeGroup'] == 1] == 1))\n",
        "\n",
        "# Print results\n",
        "print(f\"Accuracy (Reweighted Model): {accuracy}\")\n",
        "print(f\"Confusion Matrix (Reweighted): \\n{conf_matrix}\")\n",
        "print(f\"Classification Report (Reweighted): \\n{class_report}\")\n",
        "print(f\"Demographic Parity (Age <= 30): {demographic_parity_0}\")\n",
        "print(f\"Demographic Parity (Age > 30): {demographic_parity_1}\")\n",
        "print(f\"Equal Opportunity (Age <= 30): {true_positive_rate_0}\")\n",
        "print(f\"Equal Opportunity (Age > 30): {true_positive_rate_1}\")"
      ],
      "metadata": {
        "colab": {
          "base_uri": "https://localhost:8080/"
        },
        "id": "yGa_zcdjNyao",
        "outputId": "adb6ee93-c498-4ea4-c4da-cb29d5960d93"
      },
      "execution_count": 22,
      "outputs": [
        {
          "output_type": "stream",
          "name": "stdout",
          "text": [
            "Accuracy (Reweighted Model): 0.6883116883116883\n",
            "Confusion Matrix (Reweighted): \n",
            "[[64 35]\n",
            " [13 42]]\n",
            "Classification Report (Reweighted): \n",
            "              precision    recall  f1-score   support\n",
            "\n",
            "           0       0.83      0.65      0.73        99\n",
            "           1       0.55      0.76      0.64        55\n",
            "\n",
            "    accuracy                           0.69       154\n",
            "   macro avg       0.69      0.71      0.68       154\n",
            "weighted avg       0.73      0.69      0.69       154\n",
            "\n",
            "Demographic Parity (Age <= 30): 0.2716049382716049\n",
            "Demographic Parity (Age > 30): 0.7534246575342466\n",
            "Equal Opportunity (Age <= 30): 0.14814814814814814\n",
            "Equal Opportunity (Age > 30): 0.410958904109589\n"
          ]
        }
      ]
    },
    {
      "cell_type": "markdown",
      "source": [
        "Fairness Constraints"
      ],
      "metadata": {
        "id": "n6TzHeJ6Nwof"
      }
    },
    {
      "cell_type": "code",
      "source": [
        "# Import necessary libraries\n",
        "from fairlearn.reductions import ExponentiatedGradient, DemographicParity, EqualizedOdds\n",
        "from fairlearn.metrics import demographic_parity_difference, equalized_odds_difference\n",
        "from sklearn.linear_model import LogisticRegression\n",
        "from sklearn.model_selection import train_test_split\n",
        "from sklearn.metrics import accuracy_score, confusion_matrix, classification_report\n",
        "\n",
        "# Step 1: Define fairness constraints (choose the fairness metric you want)\n",
        "# We can use 'DemographicParity' or 'EqualizedOdds' for fairness constraints.\n",
        "\n",
        "fairness_constraint = DemographicParity()  # You can also use EqualizedOdds()\n",
        "\n",
        "# Step 2: Train the model with fairness constraints\n",
        "# Use a logistic regression classifier or any other model you prefer\n",
        "classifier = LogisticRegression(solver='liblinear')\n",
        "\n",
        "# Create the ExponentiatedGradient model with fairness constraints\n",
        "debiasing_model = ExponentiatedGradient(classifier, fairness_constraint)\n",
        "\n",
        "# Step 3: Fit the model\n",
        "# Fit the model to the training data with the sensitive attribute 'AgeGroup'\n",
        "debiasing_model.fit(X_train, y_train, sensitive_features=age_group_train)\n",
        "\n",
        "# Step 4: Predict on test data\n",
        "y_pred = debiasing_model.predict(X_test)\n",
        "\n",
        "# Step 5: Evaluate the model's accuracy and fairness\n",
        "accuracy = accuracy_score(y_test, y_pred)\n",
        "conf_matrix = confusion_matrix(y_test, y_pred)\n",
        "class_report = classification_report(y_test, y_pred)\n",
        "\n",
        "# Step 6: Evaluate fairness metrics\n",
        "# Check fairness using demographic parity or equalized odds\n",
        "dp_diff = demographic_parity_difference(y_test, y_pred, sensitive_features=age_group_test)\n",
        "eo_diff = equalized_odds_difference(y_test, y_pred, sensitive_features=age_group_test)\n",
        "\n",
        "# Output the results\n",
        "print(\"Accuracy with Fairness Constraints: {:.4f}\".format(accuracy))\n",
        "print(\"Confusion Matrix with Fairness Constraints:\\n\", conf_matrix)\n",
        "print(\"Classification Report with Fairness Constraints:\\n\", class_report)\n",
        "print(\"Demographic Parity Difference: {:.4f}\".format(dp_diff))\n",
        "print(\"Equalized Odds Difference: {:.4f}\".format(eo_diff))"
      ],
      "metadata": {
        "colab": {
          "base_uri": "https://localhost:8080/"
        },
        "id": "odXeUhsHPErX",
        "outputId": "849b8fc4-ad0c-4e31-efd3-c175feba1555"
      },
      "execution_count": 23,
      "outputs": [
        {
          "output_type": "stream",
          "name": "stdout",
          "text": [
            "Accuracy with Fairness Constraints: 0.7013\n",
            "Confusion Matrix with Fairness Constraints:\n",
            " [[87 12]\n",
            " [34 21]]\n",
            "Classification Report with Fairness Constraints:\n",
            "               precision    recall  f1-score   support\n",
            "\n",
            "           0       0.72      0.88      0.79        99\n",
            "           1       0.64      0.38      0.48        55\n",
            "\n",
            "    accuracy                           0.70       154\n",
            "   macro avg       0.68      0.63      0.63       154\n",
            "weighted avg       0.69      0.70      0.68       154\n",
            "\n",
            "Demographic Parity Difference: 0.0167\n",
            "Equalized Odds Difference: 0.0756\n"
          ]
        }
      ]
    },
    {
      "cell_type": "markdown",
      "source": [
        "Testing Equal Opportunity (Recall-Based Fairness Metric)"
      ],
      "metadata": {
        "id": "X9TZlmqCPYM2"
      }
    },
    {
      "cell_type": "code",
      "source": [
        "from sklearn.metrics import recall_score\n",
        "\n",
        "# Step 1: Calculate recall for each age group\n",
        "# For Age <= 30 (Age Group 0)\n",
        "recall_age_0 = recall_score(y_test[age_group_test == 0], y_pred[age_group_test == 0])\n",
        "# For Age > 30 (Age Group 1)\n",
        "recall_age_1 = recall_score(y_test[age_group_test == 1], y_pred[age_group_test == 1])\n",
        "\n",
        "print(f\"Recall (Age <= 30): {recall_age_0}\")\n",
        "print(f\"Recall (Age > 30): {recall_age_1}\")\n",
        "\n",
        "# Step 2: Equal Opportunity Difference\n",
        "equal_opportunity_diff = abs(recall_age_0 - recall_age_1)\n",
        "print(f\"Equal Opportunity Difference: {equal_opportunity_diff}\")"
      ],
      "metadata": {
        "colab": {
          "base_uri": "https://localhost:8080/"
        },
        "id": "E1A93xfIPY5G",
        "outputId": "e34d7a8f-0154-4c53-ac0d-980b7ad063dc"
      },
      "execution_count": 24,
      "outputs": [
        {
          "output_type": "stream",
          "name": "stdout",
          "text": [
            "Recall (Age <= 30): 0.42857142857142855\n",
            "Recall (Age > 30): 0.35294117647058826\n",
            "Equal Opportunity Difference: 0.07563025210084029\n"
          ]
        }
      ]
    },
    {
      "cell_type": "markdown",
      "source": [
        "Hyperparameter Tuning for Fairness"
      ],
      "metadata": {
        "id": "p6UMcOMuPupS"
      }
    },
    {
      "cell_type": "code",
      "source": [
        "from sklearn.model_selection import GridSearchCV\n",
        "from sklearn.tree import DecisionTreeClassifier\n",
        "from sklearn.linear_model import LogisticRegression\n",
        "from fairlearn.reductions import GridSearch, DemographicParity\n",
        "\n",
        "# Initialize the classifier (we'll use DecisionTree for simplicity)\n",
        "classifier = DecisionTreeClassifier(random_state=42)\n",
        "\n",
        "# Set up the parameter grid for hyperparameter tuning\n",
        "param_grid = {\n",
        "    'max_depth': [3, 5, 7, 10],\n",
        "    'min_samples_split': [2, 5, 10]\n",
        "}\n",
        "\n",
        "# Set up the fairness constraint (Demographic Parity or Equal Opportunity)\n",
        "fairness_constraint = DemographicParity()\n",
        "\n",
        "# Set up the GridSearchCV\n",
        "grid_search = GridSearchCV(classifier, param_grid, cv=5, scoring='accuracy')\n",
        "\n",
        "# Fit the model using GridSearchCV\n",
        "grid_search.fit(X_train, y_train)\n",
        "\n",
        "# Print the best parameters and the corresponding accuracy\n",
        "print(f\"Best Parameters: {grid_search.best_params_}\")\n",
        "print(f\"Best Cross-Validation Accuracy: {grid_search.best_score_}\")\n",
        "\n",
        "# Use the best model to evaluate fairness metrics again\n",
        "best_classifier = grid_search.best_estimator_\n",
        "\n",
        "# Predict with the best classifier\n",
        "y_pred_best = best_classifier.predict(X_test)\n",
        "\n",
        "# Calculate fairness metrics\n",
        "recall_age_0_best = recall_score(y_test[age_group_test == 0], y_pred_best[age_group_test == 0])\n",
        "recall_age_1_best = recall_score(y_test[age_group_test == 1], y_pred_best[age_group_test == 1])\n",
        "\n",
        "# Print the updated recall and fairness metric\n",
        "print(f\"Updated Recall (Age <= 30): {recall_age_0_best}\")\n",
        "print(f\"Updated Recall (Age > 30): {recall_age_1_best}\")\n",
        "equal_opportunity_diff_best = abs(recall_age_0_best - recall_age_1_best)\n",
        "print(f\"Updated Equal Opportunity Difference: {equal_opportunity_diff_best}\")"
      ],
      "metadata": {
        "colab": {
          "base_uri": "https://localhost:8080/"
        },
        "id": "weA7--Y4PvXL",
        "outputId": "ee288115-380b-4a9d-9a58-463dd4e9154d"
      },
      "execution_count": 25,
      "outputs": [
        {
          "output_type": "stream",
          "name": "stdout",
          "text": [
            "Best Parameters: {'max_depth': 3, 'min_samples_split': 2}\n",
            "Best Cross-Validation Accuracy: 0.7573903771824604\n",
            "Updated Recall (Age <= 30): 0.47619047619047616\n",
            "Updated Recall (Age > 30): 0.7058823529411765\n",
            "Updated Equal Opportunity Difference: 0.22969187675070035\n"
          ]
        }
      ]
    }
  ]
}